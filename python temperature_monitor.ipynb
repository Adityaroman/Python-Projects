{
 "cells": [
  {
   "cell_type": "code",
   "execution_count": 1,
   "id": "b33a16ba-545d-42e6-ab60-65931d7f4358",
   "metadata": {},
   "outputs": [
    {
     "name": "stdout",
     "output_type": "stream",
     "text": [
      "⚠️ ALERT! High temperature detected: 80°F\n",
      "Latest Temperatures: [80]\n",
      "Latest Temperatures: [80, 71]\n",
      "⚠️ ALERT! High temperature detected: 80°F\n",
      "Latest Temperatures: [80, 71, 80]\n",
      "Latest Temperatures: [80, 71, 80, 74]\n",
      "⚠️ ALERT! High temperature detected: 82°F\n",
      "Latest Temperatures: [80, 71, 80, 74, 82]\n",
      "⚠️ ALERT! High temperature detected: 76°F\n",
      "Latest Temperatures: [80, 71, 80, 74, 82, 76]\n",
      "⚠️ ALERT! High temperature detected: 80°F\n",
      "Latest Temperatures: [80, 71, 80, 74, 82, 76, 80]\n"
     ]
    },
    {
     "ename": "KeyboardInterrupt",
     "evalue": "",
     "output_type": "error",
     "traceback": [
      "\u001b[1;31m---------------------------------------------------------------------------\u001b[0m",
      "\u001b[1;31mKeyboardInterrupt\u001b[0m                         Traceback (most recent call last)",
      "Cell \u001b[1;32mIn[1], line 34\u001b[0m\n\u001b[0;32m     30\u001b[0m check_alert(current_temp)  \u001b[38;5;66;03m# Check for alerts \u001b[39;00m\n\u001b[0;32m     32\u001b[0m \u001b[38;5;28mprint\u001b[39m(\u001b[38;5;124mf\u001b[39m\u001b[38;5;124m\"\u001b[39m\u001b[38;5;124mLatest Temperatures: \u001b[39m\u001b[38;5;132;01m{\u001b[39;00mtemperature_readings\u001b[38;5;132;01m}\u001b[39;00m\u001b[38;5;124m\"\u001b[39m)  \u001b[38;5;66;03m# Display stored readings \u001b[39;00m\n\u001b[1;32m---> 34\u001b[0m time\u001b[38;5;241m.\u001b[39msleep(\u001b[38;5;241m2\u001b[39m)\n",
      "\u001b[1;31mKeyboardInterrupt\u001b[0m: "
     ]
    }
   ],
   "source": [
    "import time \n",
    "import random \n",
    " \n",
    "# Constants \n",
    "MAX_READINGS = 10  # Array size to store recent readings \n",
    "TEMP_THRESHOLD = 75  # Alert threshold temperature \n",
    " \n",
    "# Initialize an empty list to store temperature readings \n",
    "temperature_readings = [] \n",
    " \n",
    "def get_temperature(): \n",
    "    \"\"\"Simulate getting a real-time temperature reading.\"\"\" \n",
    "    return random.randint(60, 90)  # Simulated temperature range \n",
    " \n",
    "def add_temperature(temp): \n",
    "    \"\"\"Add a new temperature reading to the list, maintaining the size limit.\"\"\" \n",
    "    if len(temperature_readings) >= MAX_READINGS: \n",
    "        temperature_readings.pop(0)  # Remove the oldest reading \n",
    "    temperature_readings.append(temp) \n",
    " \n",
    "def check_alert(temp): \n",
    "    \"\"\"Check if the temperature crosses the threshold.\"\"\" \n",
    "    if temp > TEMP_THRESHOLD: \n",
    "        print(f\"⚠️ ALERT! High temperature detected: {temp}°F\") \n",
    " \n",
    "# Real-time monitoring loop (runs indefinitely, but can be stopped manually) \n",
    "while True: \n",
    "    current_temp = get_temperature()  # Simulate real-time data collection \n",
    "    add_temperature(current_temp)  # Store the latest temperature \n",
    "    check_alert(current_temp)  # Check for alerts \n",
    "     \n",
    "    print(f\"Latest Temperatures: {temperature_readings}\")  # Display stored readings \n",
    "     \n",
    "    time.sleep(2)  # Simulate a delay in real-time monitoring "
   ]
  },
  {
   "cell_type": "code",
   "execution_count": null,
   "id": "166291ec-a168-49ea-800a-3a7add7e9fa9",
   "metadata": {},
   "outputs": [],
   "source": []
  }
 ],
 "metadata": {
  "kernelspec": {
   "display_name": "Python 3 (ipykernel)",
   "language": "python",
   "name": "python3"
  },
  "language_info": {
   "codemirror_mode": {
    "name": "ipython",
    "version": 3
   },
   "file_extension": ".py",
   "mimetype": "text/x-python",
   "name": "python",
   "nbconvert_exporter": "python",
   "pygments_lexer": "ipython3",
   "version": "3.11.7"
  }
 },
 "nbformat": 4,
 "nbformat_minor": 5
}
