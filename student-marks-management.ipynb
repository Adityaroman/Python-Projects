{
 "cells": [
  {
   "cell_type": "code",
   "execution_count": 1,
   "id": "0a2fb249-2b47-4bfe-be2e-33d916cb44a3",
   "metadata": {},
   "outputs": [
    {
     "name": "stdout",
     "output_type": "stream",
     "text": [
      "\n",
      "===== Student Marks Management =====\n",
      "1. Display Marks\n",
      "2. Add Marks\n",
      "3. Update Marks\n",
      "4. Calculate Statistics\n",
      "5. Exit\n"
     ]
    },
    {
     "name": "stdin",
     "output_type": "stream",
     "text": [
      "Enter your choice (1-5):  2\n",
      "Enter the new mark:  78\n"
     ]
    },
    {
     "name": "stdout",
     "output_type": "stream",
     "text": [
      "Mark added successfully!\n",
      "\n",
      "===== Student Marks Management =====\n",
      "1. Display Marks\n",
      "2. Add Marks\n",
      "3. Update Marks\n",
      "4. Calculate Statistics\n",
      "5. Exit\n"
     ]
    },
    {
     "name": "stdin",
     "output_type": "stream",
     "text": [
      "Enter your choice (1-5):  5\n"
     ]
    },
    {
     "name": "stdout",
     "output_type": "stream",
     "text": [
      "Exiting program. Goodbye!\n"
     ]
    }
   ],
   "source": [
    "\n",
    "\n",
    "\n",
    "\n",
    "def display_marks(marks):\n",
    "    if marks:\n",
    "        print(\"Student Marks:\", marks)\n",
    "    else:\n",
    "        print(\"No marks available!\")\n",
    "\n",
    "def add_marks(marks):\n",
    "    try:\n",
    "        mark = float(input(\"Enter the new mark: \"))\n",
    "        marks.append(mark)\n",
    "        print(\"Mark added successfully!\")\n",
    "    except ValueError:\n",
    "        print(\"Invalid input! Please enter a number.\")\n",
    "\n",
    "def update_mark(marks):\n",
    "    try:\n",
    "        index = int(input(\"Enter the student index to update (0-based): \"))\n",
    "        if 0 <= index < len(marks):\n",
    "            new_mark = float(input(\"Enter the new mark: \"))\n",
    "            marks[index] = new_mark\n",
    "            print(\"Mark updated successfully!\")\n",
    "        else:\n",
    "            print(\"Invalid index!\")\n",
    "    except ValueError:\n",
    "        print(\"Invalid input! Please enter valid numbers.\")\n",
    "\n",
    "def calculate_statistics(marks):\n",
    "    if marks:\n",
    "        average = sum(marks) / len(marks)\n",
    "        highest = max(marks)\n",
    "        lowest = min(marks)\n",
    "        print(f\"\\nAverage Marks: {average:.2f}\")\n",
    "        print(f\"Highest Mark: {highest}\")\n",
    "        print(f\"Lowest Mark: {lowest}\")\n",
    "    else:\n",
    "        print(\"\\nNo marks available to calculate statistics!\")\n",
    "\n",
    "marks = []\n",
    "\n",
    "while True:\n",
    "    print(\"\\n===== Student Marks Management =====\")\n",
    "    print(\"1. Display Marks\")\n",
    "    print(\"2. Add Marks\")\n",
    "    print(\"3. Update Marks\")\n",
    "    print(\"4. Calculate Statistics\")\n",
    "    print(\"5. Exit\")\n",
    "\n",
    "    choice = input(\"Enter your choice (1-5): \")\n",
    "\n",
    "    if choice == '1':\n",
    "        display_marks(marks)\n",
    "    elif choice == '2':\n",
    "        add_marks(marks)\n",
    "    elif choice == '3':\n",
    "        update_mark(marks)\n",
    "    elif choice == '4':\n",
    "        calculate_statistics(marks)\n",
    "    elif choice == '5':\n",
    "        print(\"Exiting program. Goodbye!\")\n",
    "        break\n",
    "    else:\n",
    "        print(\"Invalid choice! Please enter a valid option (1-5).\")\n",
    "\n",
    "     "
   ]
  },
  {
   "cell_type": "code",
   "execution_count": null,
   "id": "ce7e45e9-ac80-4383-898d-2af6a58891b0",
   "metadata": {},
   "outputs": [],
   "source": []
  }
 ],
 "metadata": {
  "kernelspec": {
   "display_name": "Python 3 (ipykernel)",
   "language": "python",
   "name": "python3"
  },
  "language_info": {
   "codemirror_mode": {
    "name": "ipython",
    "version": 3
   },
   "file_extension": ".py",
   "mimetype": "text/x-python",
   "name": "python",
   "nbconvert_exporter": "python",
   "pygments_lexer": "ipython3",
   "version": "3.11.7"
  }
 },
 "nbformat": 4,
 "nbformat_minor": 5
}
